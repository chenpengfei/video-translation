{
  "nbformat": 4,
  "nbformat_minor": 0,
  "metadata": {
    "colab": {
      "provenance": [],
      "toc_visible": true,
      "authorship_tag": "ABX9TyNTJq6248SUBqQHUwIumdT5",
      "include_colab_link": true
    },
    "kernelspec": {
      "name": "python3",
      "display_name": "Python 3"
    },
    "language_info": {
      "name": "python"
    }
  },
  "cells": [
    {
      "cell_type": "markdown",
      "metadata": {
        "id": "view-in-github",
        "colab_type": "text"
      },
      "source": [
        "<a href=\"https://colab.research.google.com/github/chenpengfei/video-translation/blob/main/download-bilibili.ipynb\" target=\"_parent\"><img src=\"https://colab.research.google.com/assets/colab-badge.svg\" alt=\"Open In Colab\"/></a>"
      ]
    },
    {
      "cell_type": "code",
      "execution_count": 21,
      "metadata": {
        "colab": {
          "base_uri": "https://localhost:8080/"
        },
        "id": "dTzbbWhOYcyN",
        "outputId": "b5537d17-e816-4545-dfc1-50d5d52ee8df"
      },
      "outputs": [
        {
          "output_type": "stream",
          "name": "stdout",
          "text": [
            "Requirement already satisfied: bilili in /usr/local/lib/python3.10/dist-packages (1.4.15)\n",
            "Requirement already satisfied: requests in /usr/local/lib/python3.10/dist-packages (from bilili) (2.31.0)\n",
            "Requirement already satisfied: biliass==1.3.7 in /usr/local/lib/python3.10/dist-packages (from bilili) (1.3.7)\n",
            "Requirement already satisfied: protobuf<5.0.0,>=4.21.9 in /usr/local/lib/python3.10/dist-packages (from biliass==1.3.7->bilili) (4.25.2)\n",
            "Requirement already satisfied: charset-normalizer<4,>=2 in /usr/local/lib/python3.10/dist-packages (from requests->bilili) (3.3.2)\n",
            "Requirement already satisfied: idna<4,>=2.5 in /usr/local/lib/python3.10/dist-packages (from requests->bilili) (3.6)\n",
            "Requirement already satisfied: urllib3<3,>=1.21.1 in /usr/local/lib/python3.10/dist-packages (from requests->bilili) (2.0.7)\n",
            "Requirement already satisfied: certifi>=2017.4.17 in /usr/local/lib/python3.10/dist-packages (from requests->bilili) (2023.11.17)\n",
            "\u001b[30m\u001b[43m WARN \u001b[0m 以非大会员身份登录，无法下载会员专享剧集的喔～\n",
            "Linear Algebra ( 线性代数 英文版）\n",
            "全 11 话\n",
            "已选择第 1,2,3,4,5,6,7,8,9,10,11 话\n",
            "*  1 \u001b[35mchapter 1 vectors\u001b[0m 「\u001b[36m1080P 高清 & 320kbps\u001b[0m」\n",
            "    * chapter 1 vectors_dash_video.m4s\n",
            "        * chapter 1 vectors_dash_video_00.m4s\n",
            "    * chapter 1 vectors_dash_audio.m4s\n",
            "        * chapter 1 vectors_dash_audio_00.m4s\n",
            "*  2 \u001b[35mchapter 2 matrix #1\u001b[0m 「\u001b[36m1080P 高清 & 320kbps\u001b[0m」\n",
            "    * chapter 2 matrix #1_dash_video.m4s\n",
            "        * chapter 2 matrix #1_dash_video_00.m4s\n",
            "    * chapter 2 matrix #1_dash_audio.m4s\n",
            "        * chapter 2 matrix #1_dash_audio_00.m4s\n",
            "        * chapter 2 matrix #1_dash_audio_01.m4s\n",
            "*  3 \u001b[35mchapter 2 matrix #2\u001b[0m 「\u001b[36m1080P 高清 & 320kbps\u001b[0m」\n",
            "    * chapter 2 matrix #2_dash_video.m4s\n",
            "        * chapter 2 matrix #2_dash_video_00.m4s\n",
            "        * chapter 2 matrix #2_dash_video_01.m4s\n",
            "    * chapter 2 matrix #2_dash_audio.m4s\n",
            "        * chapter 2 matrix #2_dash_audio_00.m4s\n",
            "        * chapter 2 matrix #2_dash_audio_01.m4s\n",
            "*  4 \u001b[35mchapter 2 matrix #3\u001b[0m 「\u001b[36m1080P 高清 & 320kbps\u001b[0m」\n",
            "    * chapter 2 matrix #3_dash_video.m4s\n",
            "        * chapter 2 matrix #3_dash_video_00.m4s\n",
            "        * chapter 2 matrix #3_dash_video_01.m4s\n",
            "    * chapter 2 matrix #3_dash_audio.m4s\n",
            "        * chapter 2 matrix #3_dash_audio_00.m4s\n",
            "*  5 \u001b[35mchapter 3 linear equations #1\u001b[0m 「\u001b[36m1080P 高清 & 320kbps\u001b[0m」\n",
            "    * chapter 3 linear equations #1_dash_video.m4s\n",
            "        * chapter 3 linear equations #1_dash_video_00.m4s\n",
            "    * chapter 3 linear equations #1_dash_audio.m4s\n",
            "        * chapter 3 linear equations #1_dash_audio_00.m4s\n",
            "        * chapter 3 linear equations #1_dash_audio_01.m4s\n",
            "*  6 \u001b[35mchapter 3 linear equations #2\u001b[0m 「\u001b[36m1080P 高清 & 320kbps\u001b[0m」\n",
            "    * chapter 3 linear equations #2_dash_video.m4s\n",
            "        * chapter 3 linear equations #2_dash_video_00.m4s\n",
            "        * chapter 3 linear equations #2_dash_video_01.m4s\n",
            "    * chapter 3 linear equations #2_dash_audio.m4s\n",
            "        * chapter 3 linear equations #2_dash_audio_00.m4s\n",
            "        * chapter 3 linear equations #2_dash_audio_01.m4s\n",
            "*  7 \u001b[35mchapter 3 linear equations #3\u001b[0m 「\u001b[36m1080P 高清 & 320kbps\u001b[0m」\n",
            "    * chapter 3 linear equations #3_dash_video.m4s\n",
            "        * chapter 3 linear equations #3_dash_video_00.m4s\n",
            "        * chapter 3 linear equations #3_dash_video_01.m4s\n",
            "        * chapter 3 linear equations #3_dash_video_02.m4s\n",
            "    * chapter 3 linear equations #3_dash_audio.m4s\n",
            "        * chapter 3 linear equations #3_dash_audio_00.m4s\n",
            "        * chapter 3 linear equations #3_dash_audio_01.m4s\n",
            "*  8 \u001b[35mchapter 4 vectors spaces\u001b[0m 「\u001b[36m720P 高清 & 320kbps\u001b[0m」\n",
            "    * chapter 4 vectors spaces_dash_video.m4s\n",
            "        * chapter 4 vectors spaces_dash_video_00.m4s\n",
            "        * chapter 4 vectors spaces_dash_video_01.m4s\n",
            "    * chapter 4 vectors spaces_dash_audio.m4s\n",
            "        * chapter 4 vectors spaces_dash_audio_00.m4s\n",
            "*  9 \u001b[35mchapter 7 inner product\u001b[0m 「\u001b[36m1080P 高清 & 320kbps\u001b[0m」\n",
            "    * chapter 7 inner product_dash_video.m4s\n",
            "        * chapter 7 inner product_dash_video_00.m4s\n",
            "        * chapter 7 inner product_dash_video_01.m4s\n",
            "        * chapter 7 inner product_dash_video_02.m4s\n",
            "    * chapter 7 inner product_dash_audio.m4s\n",
            "        * chapter 7 inner product_dash_audio_00.m4s\n",
            "        * chapter 7 inner product_dash_audio_01.m4s\n",
            "* 10 \u001b[35mchapter 8  determinant #1\u001b[0m 「\u001b[36m1080P 高清 & 320kbps\u001b[0m」\n",
            "    * chapter 8 determinant #1_dash_video.m4s\n",
            "        * chapter 8 determinant #1_dash_video_00.m4s\n",
            "        * chapter 8 determinant #1_dash_video_01.m4s\n",
            "        * chapter 8 determinant #1_dash_video_02.m4s\n",
            "        * chapter 8 determinant #1_dash_video_03.m4s\n",
            "        * chapter 8 determinant #1_dash_video_04.m4s\n",
            "        * chapter 8 determinant #1_dash_video_05.m4s\n",
            "    * chapter 8 determinant #1_dash_audio.m4s\n",
            "        * chapter 8 determinant #1_dash_audio_00.m4s\n",
            "        * chapter 8 determinant #1_dash_audio_01.m4s\n",
            "* 11 \u001b[35mchapter 9 eigenvalue eigenvector\u001b[0m 「\u001b[36m1080P 高清 & 320kbps\u001b[0m」\n",
            "    * chapter 9 eigenvalue eigenvector_dash_video.m4s\n",
            "        * chapter 9 eigenvalue eigenvector_dash_video_00.m4s\n",
            "    * chapter 9 eigenvalue eigenvector_dash_audio.m4s\n",
            "        * chapter 9 eigenvalue eigenvector_dash_audio_00.m4s\n",
            "        * chapter 9 eigenvalue eigenvector_dash_audio_01.m4s\n",
            "以上标 * 为需要进行下载的视频，是否立刻进行下载？[Y/n]Traceback (most recent call last):\n",
            "  File \"/usr/local/bin/bilili\", line 8, in <module>\n",
            "    sys.exit(main())\n",
            "  File \"/usr/local/lib/python3.10/dist-packages/bilili/__main__.py\", line 338, in main\n",
            "    result = input(\"以上标 * 为需要进行下载的视频，是否立刻进行下载？[Y/n]\")\n",
            "EOFError: EOF when reading a line\n"
          ]
        }
      ],
      "source": [
        "pip install bilili && bilili --debug -c 64c38338%2C1715011406%2Cce929%2Ab2CjC4mZvghU-nH2LdKEXQhlAhEBP7cNJp_CYv4rqtY-cMF9zftAOaKoWRyk3y_9pe5kYSVmNwWU9DZ1lVUHF3b1FCdVYtT0dJNWZDc2FKbGNRbTRzMnVXMGdHRi1lUnFhNFNXXzRCWjhQUkhZNTJnQWdhbXlDeXp0Q1VOOGd2OTY1TW9NR2xQOUVBIIEC https://www.bilibili.com/video/BV1tA411L7sd/?spm_id_from=333.788.recommend_more_video.2&vd_source=5e0144c91ee64027fe8932518229dd14"
      ]
    },
    {
      "cell_type": "code",
      "source": [
        "from google.colab import drive\n",
        "drive.mount('/content/drive')\n",
        "\n",
        "file_path = '/content/drive/My Drive/colab_example.txt'  # 指定 Google Drive 中的文件路径\n",
        "with open(file_path, 'w') as f:\n",
        "    f.write('Hello, this is a test file.')\n",
        "\n",
        "print(f'File saved at {file_path}')\n"
      ],
      "metadata": {
        "id": "4AsUO7p2kv3z",
        "outputId": "139552e6-6268-4e5b-ef10-cd5916308f6b",
        "colab": {
          "base_uri": "https://localhost:8080/"
        }
      },
      "execution_count": 33,
      "outputs": [
        {
          "output_type": "stream",
          "name": "stdout",
          "text": [
            "Mounted at /content/drive\n",
            "File saved at /content/drive/My Drive/colab_example.txt\n"
          ]
        }
      ]
    },
    {
      "cell_type": "markdown",
      "source": [
        "# 新段落"
      ],
      "metadata": {
        "id": "H9uJ3s90k-1h"
      }
    }
  ]
}